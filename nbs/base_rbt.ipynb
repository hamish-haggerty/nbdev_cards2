{
 "cells": [
  {
   "cell_type": "markdown",
   "id": "2de6ab3e",
   "metadata": {},
   "source": [
    "# base_rbt -- Basic functions/classes needed for RBT\n",
    "\n",
    "> Basic stuff we need"
   ]
  },
  {
   "cell_type": "code",
   "execution_count": null,
   "id": "90421f18",
   "metadata": {},
   "outputs": [],
   "source": [
    "#| default_exp base_rbt"
   ]
  },
  {
   "cell_type": "code",
   "execution_count": null,
   "id": "9c9518c0",
   "metadata": {},
   "outputs": [],
   "source": [
    "#| export\n",
    "import torch\n",
    "if torch.cuda.is_available():device='cuda'\n",
    "else:device='cpu'\n",
    "import random\n",
    "import os\n",
    "import numpy as np\n",
    "import math"
   ]
  },
  {
   "cell_type": "code",
   "execution_count": null,
   "id": "972ca60c",
   "metadata": {},
   "outputs": [],
   "source": [
    "#| export\n",
    "def seed_everything(seed=42):\n",
    "    \"\"\"\"\n",
    "    Seed everything.\n",
    "    \"\"\"   \n",
    "    random.seed(seed)\n",
    "    os.environ['PYTHONHASHSEED'] = str(seed)\n",
    "    np.random.seed(seed)\n",
    "    torch.manual_seed(seed)\n",
    "    torch.cuda.manual_seed(seed)\n",
    "    torch.cuda.manual_seed_all(seed)\n",
    "    torch.backends.cudnn.deterministic = True"
   ]
  },
  {
   "cell_type": "code",
   "execution_count": null,
   "id": "c6e02e22",
   "metadata": {},
   "outputs": [],
   "source": [
    "#| export\n",
    "\n",
    "def random_sinusoid(x:torch.Tensor,std=0.1,seed=0):\n",
    "    \"\"\"Input a tensor x of shape: batch_size * dim. Output random sinusoid applied pointwise\n",
    "    to x. i.e. if x has shape bs*d, implicitly sample d random sinusoids and apply along batch\n",
    "    dimension\n",
    "    \"\"\"\n",
    "\n",
    "    dim=x.shape[1]\n",
    "    seed_everything(seed=seed)    \n",
    "    t=(std) * torch.randn(1,dim).to(device)\n",
    "    s=(std) * torch.randn(1,dim).to(device)\n",
    "    \n",
    "    u=torch.randn(1,dim).to(device)\n",
    "    v=torch.randn(1,dim).to(device)\n",
    "\n",
    "    a=(0.2) * torch.randn(1,dim).to(device)\n",
    "    b=(0.2) * torch.randn(1,dim).to(device)\n",
    "\n",
    "    return a*torch.sin(t*x[:,]*math.pi+u) + b*torch.cos(s*x[:,]*math.pi+v)\n",
    "\n",
    "#Uniform random number between a and b\n",
    "def Unif(a,b):\n",
    "    return (b-a)*torch.rand(1).item()+a\n",
    "\n",
    "def C_z1z2(z1norm,z1norm_2,z2norm,z2norm_2,bs):\n",
    "    \"Compute 0.5*corr(z1norm,z2norm_2) + 0.5*corr(z2norm_2,z2norm)\"\n",
    "    \n",
    "    Ctem1 =  (z1norm.T @ z2norm_2) / bs\n",
    "    Ctem2 = (z1norm_2.T @ z2norm) / bs\n",
    "    cdiff_2 = (0.5*Ctem1.pow(2) + 0.5*Ctem2.pow(2))\n",
    "\n",
    "    return cdiff_2"
   ]
  },
  {
   "cell_type": "code",
   "execution_count": null,
   "id": "2e142680",
   "metadata": {},
   "outputs": [],
   "source": [
    "#| export\n",
    "\n",
    "class Cdiff_Rand:\n",
    "    \n",
    "    def __init__(self,seed,bs,std=0.1,K=2):\n",
    "        self.seed=seed\n",
    "        self.std=std\n",
    "        self.K=2\n",
    "        self.bs=bs\n",
    "\n",
    "    def __call__(self,z1norm,z2norm):\n",
    "        \n",
    "        cdiff_rand=0\n",
    "        for i in range(self.K):\n",
    "\n",
    "            z1norm_2,z2norm_2 = random_sinusoid(z1norm,std=self.std,seed=self.seed+i), random_sinusoid(z2norm,std=self.std,seed=2*self.seed+i)\n",
    "            cdiff_rand = C_z1z2(z1norm=z1norm,z1norm_2=z1norm_2,z2norm=z2norm,z2norm_2=z2norm_2,bs=bs)\n",
    "\n",
    "        cdiff_rand=(1/self.K)*cdiff_rand\n",
    "    \n",
    "        return cdiff_rand"
   ]
  },
  {
   "cell_type": "code",
   "execution_count": null,
   "id": "de27f405",
   "metadata": {},
   "outputs": [],
   "source": [
    "#| hide\n",
    "import nbdev; nbdev.nbdev_export()"
   ]
  },
  {
   "cell_type": "code",
   "execution_count": null,
   "id": "89ae1d5a",
   "metadata": {},
   "outputs": [],
   "source": []
  }
 ],
 "metadata": {
  "kernelspec": {
   "display_name": "Python 3 (ipykernel)",
   "language": "python",
   "name": "python3"
  }
 },
 "nbformat": 4,
 "nbformat_minor": 5
}
